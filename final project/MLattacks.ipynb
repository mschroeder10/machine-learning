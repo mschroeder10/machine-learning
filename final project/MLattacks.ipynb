{
 "cells": [
  {
   "cell_type": "code",
   "execution_count": 11,
   "id": "8feda535",
   "metadata": {},
   "outputs": [],
   "source": [
    "import pandas as pd\n",
    "import numpy as np"
   ]
  },
  {
   "cell_type": "code",
   "execution_count": 12,
   "id": "f61f1b35",
   "metadata": {},
   "outputs": [
    {
     "name": "stdout",
     "output_type": "stream",
     "text": [
      "(50000, 32, 32, 3) (50000, 1) (10000, 32, 32, 3) (10000, 1)\n"
     ]
    },
    {
     "data": {
      "text/plain": [
       "array([[[[ 59,  62,  63],\n",
       "         [ 43,  46,  45],\n",
       "         [ 50,  48,  43],\n",
       "         ...,\n",
       "         [158, 132, 108],\n",
       "         [152, 125, 102],\n",
       "         [148, 124, 103]],\n",
       "\n",
       "        [[ 16,  20,  20],\n",
       "         [  0,   0,   0],\n",
       "         [ 18,   8,   0],\n",
       "         ...,\n",
       "         [123,  88,  55],\n",
       "         [119,  83,  50],\n",
       "         [122,  87,  57]],\n",
       "\n",
       "        [[ 25,  24,  21],\n",
       "         [ 16,   7,   0],\n",
       "         [ 49,  27,   8],\n",
       "         ...,\n",
       "         [118,  84,  50],\n",
       "         [120,  84,  50],\n",
       "         [109,  73,  42]],\n",
       "\n",
       "        ...,\n",
       "\n",
       "        [[208, 170,  96],\n",
       "         [201, 153,  34],\n",
       "         [198, 161,  26],\n",
       "         ...,\n",
       "         [160, 133,  70],\n",
       "         [ 56,  31,   7],\n",
       "         [ 53,  34,  20]],\n",
       "\n",
       "        [[180, 139,  96],\n",
       "         [173, 123,  42],\n",
       "         [186, 144,  30],\n",
       "         ...,\n",
       "         [184, 148,  94],\n",
       "         [ 97,  62,  34],\n",
       "         [ 83,  53,  34]],\n",
       "\n",
       "        [[177, 144, 116],\n",
       "         [168, 129,  94],\n",
       "         [179, 142,  87],\n",
       "         ...,\n",
       "         [216, 184, 140],\n",
       "         [151, 118,  84],\n",
       "         [123,  92,  72]]],\n",
       "\n",
       "\n",
       "       [[[154, 177, 187],\n",
       "         [126, 137, 136],\n",
       "         [105, 104,  95],\n",
       "         ...,\n",
       "         [ 91,  95,  71],\n",
       "         [ 87,  90,  71],\n",
       "         [ 79,  81,  70]],\n",
       "\n",
       "        [[140, 160, 169],\n",
       "         [145, 153, 154],\n",
       "         [125, 125, 118],\n",
       "         ...,\n",
       "         [ 96,  99,  78],\n",
       "         [ 77,  80,  62],\n",
       "         [ 71,  73,  61]],\n",
       "\n",
       "        [[140, 155, 164],\n",
       "         [139, 146, 149],\n",
       "         [115, 115, 112],\n",
       "         ...,\n",
       "         [ 79,  82,  64],\n",
       "         [ 68,  70,  55],\n",
       "         [ 67,  69,  55]],\n",
       "\n",
       "        ...,\n",
       "\n",
       "        [[175, 167, 166],\n",
       "         [156, 154, 160],\n",
       "         [154, 160, 170],\n",
       "         ...,\n",
       "         [ 42,  34,  36],\n",
       "         [ 61,  53,  57],\n",
       "         [ 93,  83,  91]],\n",
       "\n",
       "        [[165, 154, 128],\n",
       "         [156, 152, 130],\n",
       "         [159, 161, 142],\n",
       "         ...,\n",
       "         [103,  93,  96],\n",
       "         [123, 114, 120],\n",
       "         [131, 121, 131]],\n",
       "\n",
       "        [[163, 148, 120],\n",
       "         [158, 148, 122],\n",
       "         [163, 156, 133],\n",
       "         ...,\n",
       "         [143, 133, 139],\n",
       "         [143, 134, 142],\n",
       "         [143, 133, 144]]],\n",
       "\n",
       "\n",
       "       [[[255, 255, 255],\n",
       "         [253, 253, 253],\n",
       "         [253, 253, 253],\n",
       "         ...,\n",
       "         [253, 253, 253],\n",
       "         [253, 253, 253],\n",
       "         [253, 253, 253]],\n",
       "\n",
       "        [[255, 255, 255],\n",
       "         [255, 255, 255],\n",
       "         [255, 255, 255],\n",
       "         ...,\n",
       "         [255, 255, 255],\n",
       "         [255, 255, 255],\n",
       "         [255, 255, 255]],\n",
       "\n",
       "        [[255, 255, 255],\n",
       "         [254, 254, 254],\n",
       "         [254, 254, 254],\n",
       "         ...,\n",
       "         [254, 254, 254],\n",
       "         [254, 254, 254],\n",
       "         [254, 254, 254]],\n",
       "\n",
       "        ...,\n",
       "\n",
       "        [[113, 120, 112],\n",
       "         [111, 118, 111],\n",
       "         [105, 112, 106],\n",
       "         ...,\n",
       "         [ 72,  81,  80],\n",
       "         [ 72,  80,  79],\n",
       "         [ 72,  80,  79]],\n",
       "\n",
       "        [[111, 118, 110],\n",
       "         [104, 111, 104],\n",
       "         [ 99, 106,  98],\n",
       "         ...,\n",
       "         [ 68,  75,  73],\n",
       "         [ 70,  76,  75],\n",
       "         [ 78,  84,  82]],\n",
       "\n",
       "        [[106, 113, 105],\n",
       "         [ 99, 106,  98],\n",
       "         [ 95, 102,  94],\n",
       "         ...,\n",
       "         [ 78,  85,  83],\n",
       "         [ 79,  85,  83],\n",
       "         [ 80,  86,  84]]],\n",
       "\n",
       "\n",
       "       ...,\n",
       "\n",
       "\n",
       "       [[[ 35, 178, 235],\n",
       "         [ 40, 176, 239],\n",
       "         [ 42, 176, 241],\n",
       "         ...,\n",
       "         [ 99, 177, 219],\n",
       "         [ 79, 147, 197],\n",
       "         [ 89, 148, 189]],\n",
       "\n",
       "        [[ 57, 182, 234],\n",
       "         [ 44, 184, 250],\n",
       "         [ 50, 183, 240],\n",
       "         ...,\n",
       "         [156, 182, 200],\n",
       "         [141, 177, 206],\n",
       "         [116, 149, 175]],\n",
       "\n",
       "        [[ 98, 197, 237],\n",
       "         [ 64, 189, 252],\n",
       "         [ 69, 192, 245],\n",
       "         ...,\n",
       "         [188, 195, 206],\n",
       "         [119, 135, 147],\n",
       "         [ 61,  79,  90]],\n",
       "\n",
       "        ...,\n",
       "\n",
       "        [[ 73,  79,  77],\n",
       "         [ 53,  63,  68],\n",
       "         [ 54,  68,  80],\n",
       "         ...,\n",
       "         [ 17,  40,  64],\n",
       "         [ 21,  36,  51],\n",
       "         [ 33,  48,  49]],\n",
       "\n",
       "        [[ 61,  68,  75],\n",
       "         [ 55,  70,  86],\n",
       "         [ 57,  79, 103],\n",
       "         ...,\n",
       "         [ 24,  48,  72],\n",
       "         [ 17,  35,  53],\n",
       "         [  7,  23,  32]],\n",
       "\n",
       "        [[ 44,  56,  73],\n",
       "         [ 46,  66,  88],\n",
       "         [ 49,  77, 105],\n",
       "         ...,\n",
       "         [ 27,  52,  77],\n",
       "         [ 21,  43,  66],\n",
       "         [ 12,  31,  50]]],\n",
       "\n",
       "\n",
       "       [[[189, 211, 240],\n",
       "         [186, 208, 236],\n",
       "         [185, 207, 235],\n",
       "         ...,\n",
       "         [175, 195, 224],\n",
       "         [172, 194, 222],\n",
       "         [169, 194, 220]],\n",
       "\n",
       "        [[194, 210, 239],\n",
       "         [191, 207, 236],\n",
       "         [190, 206, 235],\n",
       "         ...,\n",
       "         [173, 192, 220],\n",
       "         [171, 191, 218],\n",
       "         [167, 190, 216]],\n",
       "\n",
       "        [[208, 219, 244],\n",
       "         [205, 216, 240],\n",
       "         [204, 215, 239],\n",
       "         ...,\n",
       "         [175, 191, 217],\n",
       "         [172, 190, 216],\n",
       "         [169, 191, 215]],\n",
       "\n",
       "        ...,\n",
       "\n",
       "        [[207, 199, 181],\n",
       "         [203, 195, 175],\n",
       "         [203, 196, 173],\n",
       "         ...,\n",
       "         [135, 132, 127],\n",
       "         [162, 158, 150],\n",
       "         [168, 163, 151]],\n",
       "\n",
       "        [[198, 190, 170],\n",
       "         [189, 181, 159],\n",
       "         [180, 172, 147],\n",
       "         ...,\n",
       "         [178, 171, 160],\n",
       "         [175, 169, 156],\n",
       "         [175, 169, 154]],\n",
       "\n",
       "        [[198, 189, 173],\n",
       "         [189, 181, 162],\n",
       "         [178, 170, 149],\n",
       "         ...,\n",
       "         [195, 184, 169],\n",
       "         [196, 189, 171],\n",
       "         [195, 190, 171]]],\n",
       "\n",
       "\n",
       "       [[[229, 229, 239],\n",
       "         [236, 237, 247],\n",
       "         [234, 236, 247],\n",
       "         ...,\n",
       "         [217, 219, 233],\n",
       "         [221, 223, 234],\n",
       "         [222, 223, 233]],\n",
       "\n",
       "        [[222, 221, 229],\n",
       "         [239, 239, 249],\n",
       "         [233, 234, 246],\n",
       "         ...,\n",
       "         [223, 223, 236],\n",
       "         [227, 228, 238],\n",
       "         [210, 211, 220]],\n",
       "\n",
       "        [[213, 206, 211],\n",
       "         [234, 232, 239],\n",
       "         [231, 233, 244],\n",
       "         ...,\n",
       "         [220, 220, 232],\n",
       "         [220, 219, 232],\n",
       "         [202, 203, 215]],\n",
       "\n",
       "        ...,\n",
       "\n",
       "        [[150, 143, 135],\n",
       "         [140, 135, 127],\n",
       "         [132, 127, 120],\n",
       "         ...,\n",
       "         [224, 222, 218],\n",
       "         [230, 228, 225],\n",
       "         [241, 241, 238]],\n",
       "\n",
       "        [[137, 132, 126],\n",
       "         [130, 127, 120],\n",
       "         [125, 121, 115],\n",
       "         ...,\n",
       "         [181, 180, 178],\n",
       "         [202, 201, 198],\n",
       "         [212, 211, 207]],\n",
       "\n",
       "        [[122, 119, 114],\n",
       "         [118, 116, 110],\n",
       "         [120, 116, 111],\n",
       "         ...,\n",
       "         [179, 177, 173],\n",
       "         [164, 164, 162],\n",
       "         [163, 163, 161]]]], dtype=uint8)"
      ]
     },
     "execution_count": 12,
     "metadata": {},
     "output_type": "execute_result"
    }
   ],
   "source": [
    "import tensorflow as tf \n",
    "from tensorflow.python.framework.ops import disable_eager_execution\n",
    "\n",
    "disable_eager_execution()\n",
    "\n",
    "# Load in the data\n",
    "cifar10 = tf.keras.datasets.cifar10\n",
    " \n",
    "# Distribute it to train and test set\n",
    "(x_train, y_train), (x_test, y_test) = cifar10.load_data()\n",
    "classes = ['plane', 'car', 'bird', 'cat', 'deer', 'dog', 'frog', 'horse', 'ship', 'truck']\n",
    "print(x_train.shape, y_train.shape, x_test.shape, y_test.shape)\n",
    "x_train"
   ]
  },
  {
   "cell_type": "code",
   "execution_count": 13,
   "id": "d34fa5d1",
   "metadata": {},
   "outputs": [
    {
     "data": {
      "image/png": "[encoded data removed]",
      "text/plain": [
       "<Figure size 432x288 with 9 Axes>"
      ]
     },
     "metadata": {
      "needs_background": "light"
     },
     "output_type": "display_data"
    }
   ],
   "source": [
    "%matplotlib inline\n",
    "import numpy as np\n",
    "import matplotlib.pyplot as plt\n",
    "\n",
    "# display a subset of images\n",
    "def display_img(count, x_train):\n",
    "    for i in range(count):\n",
    "        plt.subplot(330 + 1 + i)\n",
    "        # plot raw pixel data\n",
    "        plt.imshow(x_train[i])\n",
    "    # show the figure\n",
    "    plt.show()\n",
    "\n",
    "display_img(9, x_train)"
   ]
  },
  {
   "cell_type": "code",
   "execution_count": 14,
   "id": "1ec1cb86",
   "metadata": {},
   "outputs": [],
   "source": [
    "#flatten data into vectors. Each image vector is 3,072 numbers long (32 x 32 x 3 color channels)\n",
    "def img_to_vector(x):\n",
    "    return np.reshape(x, (x_train.shape[0], -1))"
   ]
  },
  {
   "cell_type": "code",
   "execution_count": 15,
   "id": "0be5baee",
   "metadata": {},
   "outputs": [],
   "source": [
    "#normalize data \n",
    "x_train = x_train.astype('float32')\n",
    "x_test = x_test.astype('float32')\n",
    "\n",
    "# calculate mean and standard deviation\n",
    "x_mean = np.mean(x_train)\n",
    "x_std = np.std(x_train)\n",
    "\n",
    "#x_train = (x_train - x_mean) / x_std\n",
    "#x_test = (x_test - x_mean) / x_std\n",
    "\n",
    "#pixel values between 0 and 1\n",
    "x_train  /= 255\n",
    "x_test /= 255\n",
    "\n",
    "# one-hot encode labels\n",
    "#y_train = tf.one_hot(y_train, depth=len(np.unique(y_train)))\n",
    "#y_test = tf.one_hot(y_test, depth=len(np.unique(y_test)))"
   ]
  },
  {
   "cell_type": "code",
   "execution_count": 16,
   "id": "c72e0bfd",
   "metadata": {},
   "outputs": [
    {
     "name": "stdout",
     "output_type": "stream",
     "text": [
      "(50000, 32, 32, 3) (50000, 1) (10000, 32, 32, 3) (10000, 1)\n"
     ]
    },
    {
     "data": {
      "text/plain": [
       "array([[6],\n",
       "       [9],\n",
       "       [9],\n",
       "       ...,\n",
       "       [9],\n",
       "       [1],\n",
       "       [1]], dtype=uint8)"
      ]
     },
     "execution_count": 16,
     "metadata": {},
     "output_type": "execute_result"
    }
   ],
   "source": [
    "x_train_flat = np.reshape(x_train, (x_train.shape[0], -1)) # [49000, 3072]\n",
    "x_test_flat = np.reshape(x_test, (x_test.shape[0], -1)) # [10000, 3072]\n",
    "print(x_train.shape, y_train.shape, x_test.shape, y_test.shape)\n",
    "#y_train, y_test = y_train.flatten(), y_test.flatten()\n",
    "y_train"
   ]
  },
  {
   "cell_type": "code",
   "execution_count": 37,
   "id": "7c837b8c",
   "metadata": {},
   "outputs": [
    {
     "data": {
      "text/plain": [
       "0.3398"
      ]
     },
     "execution_count": 37,
     "metadata": {},
     "output_type": "execute_result"
    }
   ],
   "source": [
    "from sklearn.neighbors import KNeighborsClassifier\n",
    "\n",
    "model = KNeighborsClassifier(n_neighbors=5)\n",
    "model.fit(x_train_flat, y_train.ravel())\n",
    "predict = model.predict(x_test_flat)\n",
    "model.score(x_test_flat, y_test)"
   ]
  },
  {
   "cell_type": "code",
   "execution_count": 18,
   "id": "398cfead",
   "metadata": {},
   "outputs": [
    {
     "name": "stdout",
     "output_type": "stream",
     "text": [
      "number of classes: 10\n",
      "Model: \"functional_3\"\n",
      "_________________________________________________________________\n",
      "Layer (type)                 Output Shape              Param #   \n",
      "=================================================================\n",
      "input_1 (InputLayer)         [(None, 32, 32, 3)]       0         \n",
      "_________________________________________________________________\n",
      "conv2d_18 (Conv2D)           (None, 32, 32, 32)        896       \n",
      "_________________________________________________________________\n",
      "batch_normalization_18 (Batc (None, 32, 32, 32)        128       \n",
      "_________________________________________________________________\n",
      "conv2d_19 (Conv2D)           (None, 32, 32, 32)        9248      \n",
      "_________________________________________________________________\n",
      "batch_normalization_19 (Batc (None, 32, 32, 32)        128       \n",
      "_________________________________________________________________\n",
      "max_pooling2d_9 (MaxPooling2 (None, 16, 16, 32)        0         \n",
      "_________________________________________________________________\n",
      "conv2d_20 (Conv2D)           (None, 16, 16, 64)        18496     \n",
      "_________________________________________________________________\n",
      "batch_normalization_20 (Batc (None, 16, 16, 64)        256       \n",
      "_________________________________________________________________\n",
      "conv2d_21 (Conv2D)           (None, 16, 16, 64)        36928     \n",
      "_________________________________________________________________\n",
      "batch_normalization_21 (Batc (None, 16, 16, 64)        256       \n",
      "_________________________________________________________________\n",
      "max_pooling2d_10 (MaxPooling (None, 8, 8, 64)          0         \n",
      "_________________________________________________________________\n",
      "conv2d_22 (Conv2D)           (None, 8, 8, 128)         73856     \n",
      "_________________________________________________________________\n",
      "batch_normalization_22 (Batc (None, 8, 8, 128)         512       \n",
      "_________________________________________________________________\n",
      "conv2d_23 (Conv2D)           (None, 8, 8, 128)         147584    \n",
      "_________________________________________________________________\n",
      "batch_normalization_23 (Batc (None, 8, 8, 128)         512       \n",
      "_________________________________________________________________\n",
      "max_pooling2d_11 (MaxPooling (None, 4, 4, 128)         0         \n",
      "_________________________________________________________________\n",
      "flatten_3 (Flatten)          (None, 2048)              0         \n",
      "_________________________________________________________________\n",
      "dropout_6 (Dropout)          (None, 2048)              0         \n",
      "_________________________________________________________________\n",
      "dense_6 (Dense)              (None, 1024)              2098176   \n",
      "_________________________________________________________________\n",
      "dropout_7 (Dropout)          (None, 1024)              0         \n",
      "_________________________________________________________________\n",
      "dense_7 (Dense)              (None, 10)                10250     \n",
      "=================================================================\n",
      "Total params: 2,397,226\n",
      "Trainable params: 2,396,330\n",
      "Non-trainable params: 896\n",
      "_________________________________________________________________\n"
     ]
    }
   ],
   "source": [
    "from tensorflow.keras.layers import Input, Conv2D, Dense, Flatten, Dropout\n",
    "from tensorflow.keras.layers import GlobalMaxPooling2D, MaxPooling2D\n",
    "from tensorflow.keras.layers import BatchNormalization\n",
    "from tensorflow.keras.models import Model\n",
    "    \n",
    "\n",
    "# number of classes\n",
    "K = len(np.unique(y_train))\n",
    " \n",
    "# calculate total number of classes\n",
    "# for output layer\n",
    "print(\"number of classes:\", K)\n",
    "\n",
    "# input layer\n",
    "i = Input(shape=x_train[0].shape)\n",
    "x = Conv2D(32, (3, 3), activation='relu', padding='same')(i)\n",
    "x = BatchNormalization()(x)\n",
    "x = Conv2D(32, (3, 3), activation='relu', padding='same')(x)\n",
    "x = BatchNormalization()(x)\n",
    "x = MaxPooling2D((2, 2))(x)\n",
    "\n",
    "x = Conv2D(64, (3, 3), activation='relu', padding='same')(x)\n",
    "x = BatchNormalization()(x)\n",
    "x = Conv2D(64, (3, 3), activation='relu', padding='same')(x)\n",
    "x = BatchNormalization()(x)\n",
    "x = MaxPooling2D((2, 2))(x)\n",
    "\n",
    "x = Conv2D(128, (3, 3), activation='relu', padding='same')(x)\n",
    "x = BatchNormalization()(x)\n",
    "x = Conv2D(128, (3, 3), activation='relu', padding='same')(x)\n",
    "x = BatchNormalization()(x)\n",
    "x = MaxPooling2D((2, 2))(x)\n",
    "\n",
    "x = Flatten()(x)\n",
    "x = Dropout(0.2)(x)\n",
    "\n",
    "# Hidden layer\n",
    "x = Dense(1024, activation='relu')(x)\n",
    "x = Dropout(0.2)(x)\n",
    "\n",
    "# last hidden layer i.e.. output layer\n",
    "x = Dense(K, activation='softmax')(x)\n",
    "\n",
    "model = Model(i, x)\n",
    "\n",
    "# model description\n",
    "model.summary()"
   ]
  },
  {
   "cell_type": "code",
   "execution_count": 19,
   "id": "4935cef8",
   "metadata": {},
   "outputs": [],
   "source": [
    "# Compile\n",
    "model.compile(optimizer='adam',\n",
    "              loss='sparse_categorical_crossentropy',\n",
    "              metrics=['accuracy'])"
   ]
  },
  {
   "cell_type": "code",
   "execution_count": 41,
   "id": "e4fdaf37",
   "metadata": {},
   "outputs": [
    {
     "name": "stdout",
     "output_type": "stream",
     "text": [
      "Epoch 1/50\n",
      "1563/1563 [==============================] - 112s 72ms/step - loss: 1.3282 - accuracy: 0.5433 - val_loss: 0.9433 - val_accuracy: 0.6661\n",
      "Epoch 2/50\n",
      "1563/1563 [==============================] - 113s 72ms/step - loss: 0.8624 - accuracy: 0.7028 - val_loss: 0.8711 - val_accuracy: 0.7085\n",
      "Epoch 3/50\n",
      "1563/1563 [==============================] - 112s 72ms/step - loss: 0.6946 - accuracy: 0.7618 - val_loss: 0.7132 - val_accuracy: 0.7553\n",
      "Epoch 4/50\n",
      "1563/1563 [==============================] - 113s 72ms/step - loss: 0.5823 - accuracy: 0.7986 - val_loss: 0.7285 - val_accuracy: 0.7582\n",
      "Epoch 5/50\n",
      "1563/1563 [==============================] - 112s 72ms/step - loss: 0.4865 - accuracy: 0.8340 - val_loss: 0.7221 - val_accuracy: 0.7656\n",
      "Epoch 6/50\n",
      "1563/1563 [==============================] - 113s 72ms/step - loss: 0.4132 - accuracy: 0.8579 - val_loss: 0.6503 - val_accuracy: 0.7905\n",
      "Epoch 7/50\n",
      "1563/1563 [==============================] - 112s 72ms/step - loss: 0.3500 - accuracy: 0.8793 - val_loss: 0.6380 - val_accuracy: 0.8054\n",
      "Epoch 8/50\n",
      "1563/1563 [==============================] - 113s 72ms/step - loss: 0.2925 - accuracy: 0.9005 - val_loss: 0.6713 - val_accuracy: 0.8036\n",
      "Epoch 9/50\n",
      "1563/1563 [==============================] - 114s 73ms/step - loss: 0.2494 - accuracy: 0.9131 - val_loss: 0.5983 - val_accuracy: 0.8197\n",
      "Epoch 10/50\n",
      "1563/1563 [==============================] - 113s 73ms/step - loss: 0.2151 - accuracy: 0.9257 - val_loss: 0.6807 - val_accuracy: 0.8080\n",
      "Epoch 11/50\n",
      "1563/1563 [==============================] - 113s 73ms/step - loss: 0.1952 - accuracy: 0.9341 - val_loss: 0.6603 - val_accuracy: 0.8270\n",
      "Epoch 12/50\n",
      "1563/1563 [==============================] - 113s 72ms/step - loss: 0.1721 - accuracy: 0.9409 - val_loss: 0.6956 - val_accuracy: 0.8176\n",
      "Epoch 13/50\n",
      "1563/1563 [==============================] - 113s 73ms/step - loss: 0.1566 - accuracy: 0.9465 - val_loss: 0.6290 - val_accuracy: 0.8321\n",
      "Epoch 14/50\n",
      "1563/1563 [==============================] - 112s 72ms/step - loss: 0.1402 - accuracy: 0.9521 - val_loss: 0.7609 - val_accuracy: 0.8316\n",
      "Epoch 15/50\n",
      "1563/1563 [==============================] - 112s 71ms/step - loss: 0.1292 - accuracy: 0.9561 - val_loss: 0.7092 - val_accuracy: 0.8313\n",
      "Epoch 16/50\n",
      "1563/1563 [==============================] - 112s 72ms/step - loss: 0.1181 - accuracy: 0.9611 - val_loss: 0.7633 - val_accuracy: 0.8214\n",
      "Epoch 17/50\n",
      "1563/1563 [==============================] - 111s 71ms/step - loss: 0.1157 - accuracy: 0.9617 - val_loss: 0.6909 - val_accuracy: 0.8253\n",
      "Epoch 18/50\n",
      "1563/1563 [==============================] - 112s 71ms/step - loss: 0.1047 - accuracy: 0.9659 - val_loss: 0.8473 - val_accuracy: 0.8131\n",
      "Epoch 19/50\n",
      "1563/1563 [==============================] - 112s 72ms/step - loss: 0.1020 - accuracy: 0.9658 - val_loss: 0.7647 - val_accuracy: 0.8256\n",
      "Epoch 20/50\n",
      "1563/1563 [==============================] - 112s 72ms/step - loss: 0.1000 - accuracy: 0.9678 - val_loss: 0.7180 - val_accuracy: 0.8373\n",
      "Epoch 21/50\n",
      "1563/1563 [==============================] - 112s 72ms/step - loss: 0.0895 - accuracy: 0.9702 - val_loss: 0.7231 - val_accuracy: 0.8370\n",
      "Epoch 22/50\n",
      "1563/1563 [==============================] - 114s 73ms/step - loss: 0.0851 - accuracy: 0.9714 - val_loss: 0.7111 - val_accuracy: 0.8370\n",
      "Epoch 23/50\n",
      "1563/1563 [==============================] - 114s 73ms/step - loss: 0.0754 - accuracy: 0.9748 - val_loss: 0.8648 - val_accuracy: 0.8224\n",
      "Epoch 24/50\n",
      "1563/1563 [==============================] - 113s 72ms/step - loss: 0.0806 - accuracy: 0.9734 - val_loss: 0.7318 - val_accuracy: 0.8407\n",
      "Epoch 25/50\n",
      "1563/1563 [==============================] - 112s 71ms/step - loss: 0.0754 - accuracy: 0.9752 - val_loss: 0.7469 - val_accuracy: 0.8361\n",
      "Epoch 26/50\n",
      "1563/1563 [==============================] - 112s 72ms/step - loss: 0.0746 - accuracy: 0.9752 - val_loss: 0.7650 - val_accuracy: 0.8349\n",
      "Epoch 27/50\n",
      "1563/1563 [==============================] - 112s 72ms/step - loss: 0.0667 - accuracy: 0.9782 - val_loss: 0.7874 - val_accuracy: 0.8358\n",
      "Epoch 28/50\n",
      "1563/1563 [==============================] - 112s 72ms/step - loss: 0.0676 - accuracy: 0.9778 - val_loss: 0.8244 - val_accuracy: 0.8360\n",
      "Epoch 29/50\n",
      "1563/1563 [==============================] - 113s 72ms/step - loss: 0.0651 - accuracy: 0.9787 - val_loss: 0.7849 - val_accuracy: 0.8383\n",
      "Epoch 30/50\n",
      "1563/1563 [==============================] - 113s 72ms/step - loss: 0.0670 - accuracy: 0.9777 - val_loss: 0.7282 - val_accuracy: 0.8390\n",
      "Epoch 31/50\n",
      "1563/1563 [==============================] - 114s 73ms/step - loss: 0.0578 - accuracy: 0.9813 - val_loss: 0.7916 - val_accuracy: 0.8319\n",
      "Epoch 32/50\n",
      "1563/1563 [==============================] - 113s 72ms/step - loss: 0.0592 - accuracy: 0.9806 - val_loss: 0.7900 - val_accuracy: 0.8372\n",
      "Epoch 33/50\n",
      "1563/1563 [==============================] - 113s 72ms/step - loss: 0.0576 - accuracy: 0.9812 - val_loss: 0.7492 - val_accuracy: 0.8403\n",
      "Epoch 34/50\n",
      "1563/1563 [==============================] - 113s 72ms/step - loss: 0.0556 - accuracy: 0.9808 - val_loss: 0.8867 - val_accuracy: 0.8256\n",
      "Epoch 35/50\n",
      "1563/1563 [==============================] - 114s 73ms/step - loss: 0.0582 - accuracy: 0.9810 - val_loss: 0.8823 - val_accuracy: 0.8317\n",
      "Epoch 36/50\n",
      "1563/1563 [==============================] - 114s 73ms/step - loss: 0.0509 - accuracy: 0.9834 - val_loss: 0.8531 - val_accuracy: 0.8281\n",
      "Epoch 37/50\n",
      "1563/1563 [==============================] - 112s 72ms/step - loss: 0.0513 - accuracy: 0.9835 - val_loss: 0.8160 - val_accuracy: 0.8413\n",
      "Epoch 38/50\n",
      "1563/1563 [==============================] - 112s 72ms/step - loss: 0.0514 - accuracy: 0.9838 - val_loss: 0.9008 - val_accuracy: 0.8369\n",
      "Epoch 39/50\n",
      "1563/1563 [==============================] - 113s 72ms/step - loss: 0.0541 - accuracy: 0.9829 - val_loss: 0.8623 - val_accuracy: 0.8412\n",
      "Epoch 40/50\n",
      "1563/1563 [==============================] - 114s 73ms/step - loss: 0.0473 - accuracy: 0.9847 - val_loss: 0.9754 - val_accuracy: 0.8246\n",
      "Epoch 41/50\n",
      "1563/1563 [==============================] - 112s 72ms/step - loss: 0.0441 - accuracy: 0.9858 - val_loss: 0.8710 - val_accuracy: 0.8387\n",
      "Epoch 42/50\n",
      "1563/1563 [==============================] - 112s 72ms/step - loss: 0.0496 - accuracy: 0.9838 - val_loss: 0.8977 - val_accuracy: 0.8396\n",
      "Epoch 43/50\n",
      "1563/1563 [==============================] - 111s 71ms/step - loss: 0.0460 - accuracy: 0.9856 - val_loss: 0.8438 - val_accuracy: 0.8313\n",
      "Epoch 44/50\n",
      "1563/1563 [==============================] - 112s 72ms/step - loss: 0.0398 - accuracy: 0.9865 - val_loss: 0.8652 - val_accuracy: 0.8376\n",
      "Epoch 45/50\n",
      "1563/1563 [==============================] - 116s 74ms/step - loss: 0.0476 - accuracy: 0.9850 - val_loss: 0.7803 - val_accuracy: 0.8433\n",
      "Epoch 46/50\n",
      "1563/1563 [==============================] - 114s 73ms/step - loss: 0.0446 - accuracy: 0.9857 - val_loss: 0.9713 - val_accuracy: 0.8365\n",
      "Epoch 47/50\n",
      "1563/1563 [==============================] - 117s 75ms/step - loss: 0.0437 - accuracy: 0.9860 - val_loss: 0.8256 - val_accuracy: 0.8451\n",
      "Epoch 48/50\n",
      "1563/1563 [==============================] - 113s 73ms/step - loss: 0.0400 - accuracy: 0.9873 - val_loss: 0.9328 - val_accuracy: 0.8453\n",
      "Epoch 49/50\n",
      "1563/1563 [==============================] - 112s 71ms/step - loss: 0.0469 - accuracy: 0.9854 - val_loss: 0.8951 - val_accuracy: 0.8438\n",
      "Epoch 50/50\n",
      "1563/1563 [==============================] - 111s 71ms/step - loss: 0.0444 - accuracy: 0.9863 - val_loss: 0.8799 - val_accuracy: 0.8434\n"
     ]
    }
   ],
   "source": [
    "# Fit\n",
    "r = model.fit(\n",
    "  x_train, y_train, validation_data=(x_test, y_test), epochs=50)"
   ]
  },
  {
   "cell_type": "code",
   "execution_count": 42,
   "id": "74556f46",
   "metadata": {},
   "outputs": [
    {
     "data": {
      "text/plain": [
       "<matplotlib.legend.Legend at 0x2137d20ec10>"
      ]
     },
     "execution_count": 42,
     "metadata": {},
     "output_type": "execute_result"
    },
    {
     "data": {
      "image/png": "[encoded data removed]",
      "text/plain": [
       "<Figure size 432x288 with 1 Axes>"
      ]
     },
     "metadata": {
      "needs_background": "light"
     },
     "output_type": "display_data"
    }
   ],
   "source": [
    "plt.plot(r.history['accuracy'], label='acc', color='red')\n",
    "plt.plot(r.history['val_accuracy'], label='val_acc', color='green')\n",
    "plt.legend()"
   ]
  },
  {
   "cell_type": "code",
   "execution_count": 36,
   "id": "cdfc5bc5",
   "metadata": {},
   "outputs": [
    {
     "name": "stdout",
     "output_type": "stream",
     "text": [
      "Original label is cat and predicted label is cat\n"
     ]
    },
    {
     "data": {
      "image/png": "[encoded data removed]",
      "text/plain": [
       "<Figure size 432x288 with 1 Axes>"
      ]
     },
     "metadata": {
      "needs_background": "light"
     },
     "output_type": "display_data"
    }
   ],
   "source": [
    "# select the image from our test dataset\n",
    "image_number = 0\n",
    " \n",
    "# display the image\n",
    "plt.imshow(x_test[image_number])\n",
    " \n",
    "# load the image in an array\n",
    "n = np.array(x_test[image_number])\n",
    " \n",
    "# reshape it\n",
    "p = n.reshape(1, 32, 32, 3)\n",
    " \n",
    "# pass in the network for prediction and\n",
    "# save the predicted label\n",
    "predicted_label = labels[model.predict(p).argmax()]\n",
    " \n",
    "# load the original label\n",
    "original_label = labels[y_test.flatten()[image_number]]\n",
    " \n",
    "# display the result\n",
    "print(\"Original label is {} and predicted label is {}\".format(\n",
    "    original_label, predicted_label))"
   ]
  },
  {
   "cell_type": "code",
   "execution_count": 21,
   "id": "fc5972bd",
   "metadata": {},
   "outputs": [
    {
     "name": "stdout",
     "output_type": "stream",
     "text": [
      "Train on 50000 samples\n",
      "Epoch 1/10\n",
      "50000/50000 [==============================] - 103s 2ms/sample - loss: 1.5475 - accuracy: 0.5091\n",
      "Epoch 2/10\n",
      "50000/50000 [==============================] - 89s 2ms/sample - loss: 0.8899 - accuracy: 0.6870\n",
      "Epoch 3/10\n",
      "50000/50000 [==============================] - 87s 2ms/sample - loss: 0.6839 - accuracy: 0.7622\n",
      "Epoch 4/10\n",
      "50000/50000 [==============================] - 87s 2ms/sample - loss: 0.5648 - accuracy: 0.8019\n",
      "Epoch 5/10\n",
      "50000/50000 [==============================] - 87s 2ms/sample - loss: 0.4574 - accuracy: 0.8373\n",
      "Epoch 6/10\n",
      "50000/50000 [==============================] - 87s 2ms/sample - loss: 0.3841 - accuracy: 0.8650\n",
      "Epoch 7/10\n",
      "50000/50000 [==============================] - 87s 2ms/sample - loss: 0.3108 - accuracy: 0.8906\n",
      "Epoch 8/10\n",
      "50000/50000 [==============================] - 91s 2ms/sample - loss: 0.2566 - accuracy: 0.9105\n",
      "Epoch 9/10\n",
      "50000/50000 [==============================] - 87s 2ms/sample - loss: 0.2181 - accuracy: 0.9238\n",
      "Epoch 10/10\n",
      "50000/50000 [==============================] - 87s 2ms/sample - loss: 0.1749 - accuracy: 0.9383\n",
      "Create DeepFool attack\n",
      "Craft attack on training examples\n",
      "WARNING:tensorflow:From C:\\Users\\mdsco\\Anaconda3\\lib\\site-packages\\tensorflow\\python\\keras\\engine\\training_v1.py:2070: Model.state_updates (from tensorflow.python.keras.engine.training) is deprecated and will be removed in a future version.\n",
      "Instructions for updating:\n",
      "This property should not be used in TensorFlow 2.0, as updates are applied automatically.\n"
     ]
    },
    {
     "data": {
      "application/vnd.jupyter.widget-view+json": {
       "model_id": "b24fbb0b41a348c584560d1316eb9f38",
       "version_major": 2,
       "version_minor": 0
      },
      "text/plain": [
       "DeepFool:   0%|          | 0/50000 [00:00<?, ?it/s]"
      ]
     },
     "metadata": {},
     "output_type": "display_data"
    },
    {
     "name": "stdout",
     "output_type": "stream",
     "text": [
      "Craft attack test examples\n"
     ]
    },
    {
     "data": {
      "application/vnd.jupyter.widget-view+json": {
       "model_id": "8d48b2e5b4414cde98c668bad3b8109c",
       "version_major": 2,
       "version_minor": 0
      },
      "text/plain": [
       "DeepFool:   0%|          | 0/10000 [00:00<?, ?it/s]"
      ]
     },
     "metadata": {},
     "output_type": "display_data"
    }
   ],
   "source": [
    "from art.attacks.evasion import DeepFool\n",
    "from art.estimators.classification import KerasClassifier\n",
    "# Create classifier wrapper\n",
    "classifier = KerasClassifier(model=model)\n",
    "classifier.fit(x_train, y_train, nb_epochs=10, batch_size=128)\n",
    "\n",
    "# Craft adversarial samples with DeepFool\n",
    "print(\"Create DeepFool attack\")\n",
    "adv_crafter = DeepFool(classifier)\n",
    "print(\"Craft attack on training examples\")\n",
    "x_train_adv = adv_crafter.generate(x_train)\n",
    "print(\"Craft attack test examples\")\n",
    "x_test_adv = adv_crafter.generate(x_test)"
   ]
  },
  {
   "cell_type": "code",
   "execution_count": 22,
   "id": "e1a7896c",
   "metadata": {},
   "outputs": [
    {
     "name": "stdout",
     "output_type": "stream",
     "text": [
      "Classifier before adversarial training\n",
      "Accuracy on adversarial samples: %.2f%% 7.33\n"
     ]
    }
   ],
   "source": [
    "# Evaluate the classifier on the adversarial samples\n",
    "preds = np.argmax(classifier.predict(x_test_adv), axis=1)\n",
    "acc = np.sum(preds == np.argmax(y_test, axis=1)) / y_test.shape[0]\n",
    "print(\"Classifier before adversarial training\")\n",
    "print(\"Accuracy on adversarial samples: %.2f%%\", (acc * 100))"
   ]
  },
  {
   "cell_type": "code",
   "execution_count": 23,
   "id": "94ae7c41",
   "metadata": {},
   "outputs": [],
   "source": [
    "# Data augmentation: expand the training set with the adversarial samples\n",
    "x_train = np.append(x_train, x_train_adv, axis=0)\n",
    "y_train = np.append(y_train, y_train, axis=0)"
   ]
  },
  {
   "cell_type": "code",
   "execution_count": 24,
   "id": "04459a39",
   "metadata": {},
   "outputs": [
    {
     "name": "stdout",
     "output_type": "stream",
     "text": [
      "Train on 100000 samples\n",
      "Epoch 1/10\n",
      "100000/100000 [==============================] - 197s 2ms/sample - loss: 0.9311 - accuracy: 0.6753\n",
      "Epoch 2/10\n",
      "100000/100000 [==============================] - 199s 2ms/sample - loss: 0.5705 - accuracy: 0.8020\n",
      "Epoch 3/10\n",
      "100000/100000 [==============================] - 199s 2ms/sample - loss: 0.4237 - accuracy: 0.8534\n",
      "Epoch 4/10\n",
      "100000/100000 [==============================] - 198s 2ms/sample - loss: 0.3323 - accuracy: 0.8870\n",
      "Epoch 5/10\n",
      "100000/100000 [==============================] - 195s 2ms/sample - loss: 0.2780 - accuracy: 0.9045\n",
      "Epoch 6/10\n",
      "100000/100000 [==============================] - 195s 2ms/sample - loss: 0.2394 - accuracy: 0.9191\n",
      "Epoch 7/10\n",
      "100000/100000 [==============================] - 195s 2ms/sample - loss: 0.2047 - accuracy: 0.9311\n",
      "Epoch 8/10\n",
      "100000/100000 [==============================] - 196s 2ms/sample - loss: 0.1817 - accuracy: 0.9390\n",
      "Epoch 9/10\n",
      "100000/100000 [==============================] - 196s 2ms/sample - loss: 0.1628 - accuracy: 0.9454\n",
      "Epoch 10/10\n",
      "100000/100000 [==============================] - 194s 2ms/sample - loss: 0.1536 - accuracy: 0.9478\n"
     ]
    }
   ],
   "source": [
    "# Retrain the CNN on the extended dataset\n",
    "model.compile(loss=\"sparse_categorical_crossentropy\", optimizer=\"adam\", metrics=[\"accuracy\"])\n",
    "classifier.fit(x_train, y_train, nb_epochs=10, batch_size=128)"
   ]
  },
  {
   "cell_type": "code",
   "execution_count": 25,
   "id": "08601dd6",
   "metadata": {},
   "outputs": [
    {
     "name": "stdout",
     "output_type": "stream",
     "text": [
      "Classifier with adversarial training\n",
      "Accuracy on adversarial samples: %.2f%% 11.899999999999999\n"
     ]
    }
   ],
   "source": [
    "# Evaluate the adversarially trained classifier on the test set\n",
    "preds = np.argmax(classifier.predict(x_test_adv), axis=1)\n",
    "acc = np.sum(preds == np.argmax(y_test, axis=1)) / y_test.shape[0]\n",
    "print(\"Classifier with adversarial training\")\n",
    "print(\"Accuracy on adversarial samples: %.2f%%\", (acc * 100))"
   ]
  },
  {
   "cell_type": "code",
   "execution_count": 41,
   "id": "4c785b88",
   "metadata": {},
   "outputs": [
    {
     "name": "stderr",
     "output_type": "stream",
     "text": [
      "Clipping input data to the valid range for imshow with RGB data ([0..1] for floats or [0..255] for integers).\n"
     ]
    },
    {
     "name": "stdout",
     "output_type": "stream",
     "text": [
      "Original label is plane and predicted label is truck\n"
     ]
    },
    {
     "data": {
      "image/png": "[encoded data removed]",
      "text/plain": [
       "<Figure size 432x288 with 1 Axes>"
      ]
     },
     "metadata": {
      "needs_background": "light"
     },
     "output_type": "display_data"
    }
   ],
   "source": [
    "# label mapping\n",
    " \n",
    "labels = ['plane', 'car', 'bird', 'cat', 'deer', 'dog', 'frog', 'horse', 'ship', 'truck']\n",
    " \n",
    "# select the image from our test dataset\n",
    "image_number = 44\n",
    " \n",
    "# display the image\n",
    "plt.imshow(x_test_adv[image_number])\n",
    " \n",
    "# load the image in an array\n",
    "n = np.array(x_test_adv[image_number])\n",
    " \n",
    "# reshape it\n",
    "p = n.reshape(1, 32, 32, 3)\n",
    "# pass in the network for prediction and\n",
    "# save the predicted label\n",
    "predicted_label = labels[model.predict(p).argmax()]\n",
    " \n",
    "# load the original label\n",
    "original_label = labels[y_test.flatten()[image_number]]\n",
    " \n",
    "# display the result\n",
    "print(\"Original label is {} and predicted label is {}\".format(\n",
    "    original_label, predicted_label))"
   ]
  },
  {
   "cell_type": "code",
   "execution_count": null,
   "id": "10d1d7e6",
   "metadata": {},
   "outputs": [],
   "source": []
  }
 ],
 "metadata": {
  "kernelspec": {
   "display_name": "Python 3",
   "language": "python",
   "name": "python3"
  },
  "language_info": {
   "codemirror_mode": {
    "name": "ipython",
    "version": 3
   },
   "file_extension": ".py",
   "mimetype": "text/x-python",
   "name": "python",
   "nbconvert_exporter": "python",
   "pygments_lexer": "ipython3",
   "version": "3.8.8"
  }
 },
 "nbformat": 4,
 "nbformat_minor": 5
}
